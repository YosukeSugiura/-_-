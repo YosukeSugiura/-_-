{
  "nbformat": 4,
  "nbformat_minor": 0,
  "metadata": {
    "colab": {
      "provenance": [],
      "authorship_tag": "ABX9TyNfIrw2TUd2cXqJ/quCydYH",
      "include_colab_link": true
    },
    "kernelspec": {
      "name": "python3",
      "display_name": "Python 3"
    },
    "language_info": {
      "name": "python"
    }
  },
  "cells": [
    {
      "cell_type": "markdown",
      "metadata": {
        "id": "view-in-github",
        "colab_type": "text"
      },
      "source": [
        "<a href=\"https://colab.research.google.com/github/YosukeSugiura/-_-/blob/main/%E6%BC%94%E7%BF%92%E8%AA%B2%E9%A1%8C%EF%BC%92%EF%BC%9AWhisper%E3%81%AB%E3%82%88%E3%82%8B%E9%9F%B3%E5%A3%B0%E8%AA%8D%E8%AD%98.ipynb\" target=\"_parent\"><img src=\"https://colab.research.google.com/assets/colab-badge.svg\" alt=\"Open In Colab\"/></a>"
      ]
    },
    {
      "cell_type": "code",
      "execution_count": 5,
      "metadata": {
        "colab": {
          "base_uri": "https://localhost:8080/",
          "height": 347
        },
        "id": "E8jzpYDWHjql",
        "outputId": "07024b6f-8980-4bbc-c2dd-064390437889"
      },
      "outputs": [
        {
          "output_type": "display_data",
          "data": {
            "text/plain": [
              "<IPython.core.display.Markdown object>"
            ],
            "text/markdown": "### Public URL\n**https://2c5b4cce9aa67f1c1c.gradio.live**"
          },
          "metadata": {}
        },
        {
          "output_type": "display_data",
          "data": {
            "image/png": "[encoded data removed]",
            "text/plain": [
              "<IPython.core.display.Image object>"
            ]
          },
          "metadata": {}
        }
      ],
      "source": [
        "# =========================\n",
        "# Whisper-base による音声認識（CPU固定・WAVアップロードのみ・日本語）\n",
        "# =========================\n",
        "\n",
        "!pip -q install -U \"gradio==5.47.2\" \"faster-whisper==1.0.3\" soundfile librosa soxr > /dev/null\n",
        "\n",
        "import os, time, tempfile\n",
        "import numpy as np\n",
        "import soundfile as sf\n",
        "import librosa\n",
        "import gradio as gr\n",
        "from faster_whisper import WhisperModel\n",
        "\n",
        "# ---- ASRモデル（base / CPU固定 / 多言語版）----\n",
        "_model = None\n",
        "def get_model():\n",
        "    global _model\n",
        "    if _model is None:\n",
        "        # ※ \"base\" は多言語モデル。日本語は language=\"ja\" で固定する\n",
        "        _model = WhisperModel(\"base\", device=\"cpu\", compute_type=\"int8\")\n",
        "    return _model\n",
        "\n",
        "# ---- 16 kHz mono へ正規化 ----\n",
        "def ensure_wav_16k_mono(path: str):\n",
        "    y, sr = sf.read(path)\n",
        "    if y.ndim > 1:\n",
        "        y = y[:,0]\n",
        "    if sr != 16000:\n",
        "        y = librosa.resample(y, orig_sr=sr, target_sr=16000, res_type=\"soxr_hq\")\n",
        "        sr = 16000\n",
        "    y = y.astype(np.float32)\n",
        "    tmp = tempfile.NamedTemporaryFile(delete=False, suffix=\".wav\")\n",
        "    sf.write(tmp.name, y, sr)\n",
        "    return tmp.name\n",
        "\n",
        "def safe_path(ui_audio):\n",
        "    if ui_audio is None:\n",
        "        return None\n",
        "    if isinstance(ui_audio, dict) and \"name\" in ui_audio:\n",
        "        return ui_audio[\"name\"]\n",
        "    if isinstance(ui_audio, str):\n",
        "        return ui_audio\n",
        "    if isinstance(ui_audio, list) and ui_audio and isinstance(ui_audio[0], dict) and \"name\" in ui_audio[0]:\n",
        "        return ui_audio[0][\"name\"]\n",
        "    return None\n",
        "\n",
        "# ---- 音声認識（日本語固定） ----\n",
        "def transcribe_file(path: str):\n",
        "    wav = ensure_wav_16k_mono(path)\n",
        "    model = get_model()\n",
        "    t0 = time.time()\n",
        "    segments, info = model.transcribe(\n",
        "        wav, language=\"ja\", vad_filter=True\n",
        "    )\n",
        "    text = \"\".join([seg.text for seg in segments]).strip()\n",
        "    elapsed = time.time() - t0\n",
        "    return text, elapsed, info.duration\n",
        "\n",
        "# ---- Gradio UI ----\n",
        "with gr.Blocks() as demo:\n",
        "    gr.Markdown(\"## Whisper-baseによる音声認識\")\n",
        "\n",
        "    with gr.Row():\n",
        "        with gr.Column():\n",
        "            audio = gr.Audio(label=\"WAVファイル(アップロード)\", sources=[\"upload\"], type=\"filepath\")\n",
        "            run = gr.Button(\"認識する\", variant=\"primary\")\n",
        "        with gr.Column():\n",
        "            out_text = gr.Textbox(label=\"認識結果テキスト\", lines=6)\n",
        "            out_time = gr.Markdown()  # ← LabelではなくMarkdownに変更（文字可）\n",
        "\n",
        "    def do_asr(ui_audio):\n",
        "        p = safe_path(ui_audio)\n",
        "        if not p or not os.path.exists(p):\n",
        "            return \"⚠️ WAVファイルをアップロードしてください。\", \"処理時間: - / 音声長: -\"\n",
        "        text, sec, dur = transcribe_file(p)\n",
        "        tinfo_md = f\"**処理時間:** {sec:.2f}s　/　**音声長:** {dur:.2f}s\"\n",
        "        return text, tinfo_md\n",
        "\n",
        "    run.click(do_asr, inputs=[audio], outputs=[out_text, out_time])\n",
        "\n",
        "res = demo.queue().launch(share=True, inline=False, show_error=True)\n",
        "\n",
        "# --- URL と QR のみ表示（Gradio 版数差吸収） ---\n",
        "from IPython.display import clear_output, display, Markdown, Image\n",
        "clear_output(wait=True)\n",
        "\n",
        "url = getattr(res, \"share_url\", None) or getattr(res, \"public_url\", None)\n",
        "if url is None:\n",
        "    try:\n",
        "        _, _, url = res  # older tuple\n",
        "    except Exception:\n",
        "        url = None\n",
        "\n",
        "if not url:\n",
        "    print(\"No share URL.\")\n",
        "else:\n",
        "    try:\n",
        "        import segno\n",
        "    except Exception:\n",
        "        import sys, subprocess\n",
        "        subprocess.run([sys.executable, \"-m\", \"pip\", \"-q\", \"install\", \"segno\"], check=False)\n",
        "        import segno\n",
        "    qr_path = \"/content/gradio_url_qr.png\"\n",
        "    segno.make(url).save(qr_path, scale=8, border=2)\n",
        "    display(Markdown(f\"### Public URL\\n**{url}**\"))\n",
        "    display(Image(qr_path))\n"
      ]
    }
  ]
}